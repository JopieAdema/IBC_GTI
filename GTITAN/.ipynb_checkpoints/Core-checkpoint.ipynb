{
 "cells": [
  {
   "cell_type": "code",
   "execution_count": 9,
   "metadata": {},
   "outputs": [],
   "source": [
    "import ast\n",
    "import copy\n",
    "import datetime\n",
    "import glob\n",
    "import json\n",
    "import os\n",
    "import pickle\n",
    "import random\n",
    "import shutil\n",
    "import time\n",
    "import warnings\n",
    "\n",
    "import networkx as nx\n",
    "import numpy as np\n",
    "import pandas as pd\n",
    "from pytrends.request import TrendReq\n",
    "from tqdm import tqdm\n",
    "import gtab\n",
    "\n",
    "class GTITAN:\n",
    "    def __delete_all_internal_files(self):\n",
    "        \"\"\"  Deletes all saved caches (keywords, results and pairs). Be careful! \"\"\"\n",
    "        \n",
    "        print(\"To be built\")\n",
    "\n",
    "    def __init__(self, dir_path=None,develop=True):\n",
    "        \"\"\"\n",
    "        Initializes a GTAB instance with the desired directory.\n",
    "        :param dir_path:  path where to create a directory. If left to None, uses default package directory;\n",
    "        :param high_traffic: If true, adds high traffic keywords.\n",
    "        \"\"\"\n",
    "        \n",
    "        self.develop = develop\n",
    "        if dir_path is None:\n",
    "            #This queries 1 path up\n",
    "            self.dir_path = os.path.dirname(os.path.abspath(''))\n",
    "        else:\n",
    "            self.dir_path = dir_path\n",
    "            if not os.path.exists(dir_path):\n",
    "                default_path = os.path.dirname(os.path.abspath(''))\n",
    "                # creating directory structure\n",
    "                os.makedirs(os.path.join(self.dir_path, \"logs\"))\n",
    "                os.makedirs(os.path.join(self.dir_path, \"config\"))\n",
    "                os.makedirs(os.path.join(self.dir_path, \"data\", \"internal\", \"google_keywords\"))\n",
    "                os.makedirs(os.path.join(self.dir_path, \"data\", \"internal\", \"google_pairs\"))\n",
    "                os.makedirs(os.path.join(self.dir_path, \"data\", \"internal\", \"google_results\"))\n",
    "                os.makedirs(os.path.join(self.dir_path, \"output\", \"google_anchorbanks\"))\n",
    "\n",
    "                # copying defaults\n",
    "                shutil.copyfile(os.path.join(default_path, \"data\", \"anchor_candidate_list.txt\"),\n",
    "                                os.path.join(self.dir_path, \"data\", \"anchor_candidate_list.txt\"))\n",
    "                shutil.copyfile(os.path.join(default_path, \"config\", \"config_py.json\"),\n",
    "                                os.path.join(self.dir_path, \"config\", \"config_py.json\"))\n",
    "                shutil.copyfile(os.path.join(default_path, \"config\", \"config_cl.json\"),\n",
    "                                os.path.join(self.dir_path, \"config\", \"config_cl.json\"))\n",
    "                for f in glob.glob(os.path.join(default_path, \"output\", \"google_anchorbanks\", \"*.tsv\")):\n",
    "                    shutil.copyfile(f, os.path.join(self.dir_path, \"output\", \"google_anchorbanks\", os.path.basename(f)))\n",
    "            else:\n",
    "                print(\"Directory already exists, loading data from it.\")\n",
    "\n",
    "        print(f\"Using directory '{self.dir_path}'\")\n",
    "        with open(os.path.join(self.dir_path, \"config\", \"config_py.json\"), 'r') as fp:\n",
    "                self.CONFIG = json.load(fp)\n",
    "\n",
    "        self.CONFIG['CONN']['timeout'] = tuple(self.CONFIG['CONN']['timeout'])\n",
    "        self.ANCHOR_CANDIDATES = [el.strip() for el in open(\n",
    "            os.path.join(self.dir_path, \"data\", self.CONFIG['GTAB']['anchor_candidates_file']), \"r\")]\n",
    "\n",
    "        if self.CONFIG['GTAB']['num_anchor_candidates'] >= len(self.ANCHOR_CANDIDATES):\n",
    "            self.CONFIG['GTAB']['num_anchor_candidates'] = len(self.ANCHOR_CANDIDATES)\n",
    "\n",
    "        self.HITRAFFIC = self.CONFIG[\"HITRAFFIC\"]\n",
    "\n",
    "        self.active_gtab = None\n",
    "        self.pytrends = TrendReq(hl='en-US', **self.CONFIG['CONN'])\n",
    "\n",
    "        # sets default anchorbank\n",
    "        default_anchorbank = \"google_anchorbank_geo=_timeframe=2019-01-01 2020-08-01.tsv\"\n",
    "        self.set_active_gtab(default_anchorbank)\n",
    "\n"
   ]
  },
  {
   "cell_type": "code",
   "execution_count": 10,
   "metadata": {},
   "outputs": [
    {
     "name": "stdout",
     "output_type": "stream",
     "text": [
      "Using directory 'S:\\ifo\\Coursework\\ML\\Term Paper Project'\n"
     ]
    },
    {
     "ename": "FileNotFoundError",
     "evalue": "[Errno 2] No such file or directory: 'S:\\\\ifo\\\\Coursework\\\\ML\\\\Term Paper Project\\\\config\\\\config_py.json'",
     "output_type": "error",
     "traceback": [
      "\u001b[1;31m---------------------------------------------------------------------------\u001b[0m",
      "\u001b[1;31mFileNotFoundError\u001b[0m                         Traceback (most recent call last)",
      "\u001b[1;32m<ipython-input-10-079eaa9cfaf0>\u001b[0m in \u001b[0;36m<module>\u001b[1;34m\u001b[0m\n\u001b[1;32m----> 1\u001b[1;33m \u001b[0ma\u001b[0m\u001b[1;33m=\u001b[0m\u001b[0mGTITAN\u001b[0m\u001b[1;33m(\u001b[0m\u001b[1;33m)\u001b[0m\u001b[1;33m\u001b[0m\u001b[1;33m\u001b[0m\u001b[0m\n\u001b[0m",
      "\u001b[1;32m<ipython-input-9-7fe6f7d7d5d9>\u001b[0m in \u001b[0;36m__init__\u001b[1;34m(self, dir_path, develop)\u001b[0m\n\u001b[0;32m     60\u001b[0m \u001b[1;33m\u001b[0m\u001b[0m\n\u001b[0;32m     61\u001b[0m         \u001b[0mprint\u001b[0m\u001b[1;33m(\u001b[0m\u001b[1;34mf\"Using directory '{self.dir_path}'\"\u001b[0m\u001b[1;33m)\u001b[0m\u001b[1;33m\u001b[0m\u001b[1;33m\u001b[0m\u001b[0m\n\u001b[1;32m---> 62\u001b[1;33m         \u001b[1;32mwith\u001b[0m \u001b[0mopen\u001b[0m\u001b[1;33m(\u001b[0m\u001b[0mos\u001b[0m\u001b[1;33m.\u001b[0m\u001b[0mpath\u001b[0m\u001b[1;33m.\u001b[0m\u001b[0mjoin\u001b[0m\u001b[1;33m(\u001b[0m\u001b[0mself\u001b[0m\u001b[1;33m.\u001b[0m\u001b[0mdir_path\u001b[0m\u001b[1;33m,\u001b[0m \u001b[1;34m\"config\"\u001b[0m\u001b[1;33m,\u001b[0m \u001b[1;34m\"config_py.json\"\u001b[0m\u001b[1;33m)\u001b[0m\u001b[1;33m,\u001b[0m \u001b[1;34m'r'\u001b[0m\u001b[1;33m)\u001b[0m \u001b[1;32mas\u001b[0m \u001b[0mfp\u001b[0m\u001b[1;33m:\u001b[0m\u001b[1;33m\u001b[0m\u001b[1;33m\u001b[0m\u001b[0m\n\u001b[0m\u001b[0;32m     63\u001b[0m                 \u001b[0mself\u001b[0m\u001b[1;33m.\u001b[0m\u001b[0mCONFIG\u001b[0m \u001b[1;33m=\u001b[0m \u001b[0mjson\u001b[0m\u001b[1;33m.\u001b[0m\u001b[0mload\u001b[0m\u001b[1;33m(\u001b[0m\u001b[0mfp\u001b[0m\u001b[1;33m)\u001b[0m\u001b[1;33m\u001b[0m\u001b[1;33m\u001b[0m\u001b[0m\n\u001b[0;32m     64\u001b[0m \u001b[1;33m\u001b[0m\u001b[0m\n",
      "\u001b[1;31mFileNotFoundError\u001b[0m: [Errno 2] No such file or directory: 'S:\\\\ifo\\\\Coursework\\\\ML\\\\Term Paper Project\\\\config\\\\config_py.json'"
     ]
    }
   ],
   "source": [
    "a=GTITAN()"
   ]
  },
  {
   "cell_type": "code",
   "execution_count": 3,
   "metadata": {},
   "outputs": [
    {
     "name": "stdout",
     "output_type": "stream",
     "text": [
      "['S:\\\\ifo\\\\Coursework\\\\ML\\\\Term Paper Project\\\\GTITAN', 'C:\\\\Users\\\\Joop Adema\\\\Anaconda3\\\\python37.zip', 'C:\\\\Users\\\\Joop Adema\\\\Anaconda3\\\\DLLs', 'C:\\\\Users\\\\Joop Adema\\\\Anaconda3\\\\lib', 'C:\\\\Users\\\\Joop Adema\\\\Anaconda3', '', 'C:\\\\Users\\\\Joop Adema\\\\AppData\\\\Roaming\\\\Python\\\\Python37\\\\site-packages', 'C:\\\\Users\\\\Joop Adema\\\\Anaconda3\\\\lib\\\\site-packages', 'C:\\\\Users\\\\Joop Adema\\\\Anaconda3\\\\lib\\\\site-packages\\\\win32', 'C:\\\\Users\\\\Joop Adema\\\\Anaconda3\\\\lib\\\\site-packages\\\\win32\\\\lib', 'C:\\\\Users\\\\Joop Adema\\\\Anaconda3\\\\lib\\\\site-packages\\\\Pythonwin', 'C:\\\\Users\\\\Joop Adema\\\\Anaconda3\\\\lib\\\\site-packages\\\\IPython\\\\extensions', 'C:\\\\Users\\\\Joop Adema\\\\.ipython']\n"
     ]
    }
   ],
   "source": [
    "import sys\n",
    "print(sys.path)"
   ]
  },
  {
   "cell_type": "code",
   "execution_count": 8,
   "metadata": {},
   "outputs": [
    {
     "data": {
      "text/plain": [
       "'S:\\\\ifo\\\\Coursework\\\\ML\\\\Term Paper Project\\\\GTITAN'"
      ]
     },
     "execution_count": 8,
     "metadata": {},
     "output_type": "execute_result"
    }
   ],
   "source": [
    "os.path.abspath('')"
   ]
  },
  {
   "cell_type": "code",
   "execution_count": null,
   "metadata": {},
   "outputs": [],
   "source": []
  }
 ],
 "metadata": {
  "kernelspec": {
   "display_name": "Python 3",
   "language": "python",
   "name": "python3"
  },
  "language_info": {
   "codemirror_mode": {
    "name": "ipython",
    "version": 3
   },
   "file_extension": ".py",
   "mimetype": "text/x-python",
   "name": "python",
   "nbconvert_exporter": "python",
   "pygments_lexer": "ipython3",
   "version": "3.7.3"
  }
 },
 "nbformat": 4,
 "nbformat_minor": 4
}
