{
 "cells": [
  {
   "cell_type": "code",
   "execution_count": 36,
   "metadata": {},
   "outputs": [],
   "source": [
    "import ast\n",
    "import copy\n",
    "import datetime\n",
    "import glob\n",
    "import json\n",
    "import os\n",
    "import pickle\n",
    "import random\n",
    "import shutil\n",
    "import time\n",
    "import warnings\n",
    "\n",
    "import networkx as nx\n",
    "import numpy as np\n",
    "import pandas as pd\n",
    "from pytrends.request import TrendReq\n",
    "from tqdm import tqdm\n",
    "import gtab\n",
    "\n",
    "class GTITAN:\n",
    "    def __delete_all_internal_files(self):\n",
    "        \"\"\"  Deletes all saved caches (keywords, results and pairs). Be careful! \"\"\"\n",
    "        print(\"To be built\")\n",
    "\n",
    "    def __init__(self, dir_path=None,develop=True):\n",
    "        \"\"\"\n",
    "        Initializes a GTITAN instance with the desired directory.\n",
    "        :param dir_path:  path where to create a directory. If left to None, uses default package directory;\n",
    "        \"\"\"\n",
    "        self.develop = develop\n",
    "        if dir_path is None:\n",
    "            #This queries 1 path up\n",
    "            self.dir_path = os.path.dirname(os.path.abspath(''))\n",
    "        else:\n",
    "            self.dir_path = dir_path\n",
    "            if not os.path.exists(dir_path):\n",
    "                default_path = os.path.dirname(os.path.abspath(''))\n",
    "                # creating directory structure\n",
    "                os.makedirs(os.path.join(self.dir_path, \"logs\"))\n",
    "                os.makedirs(os.path.join(self.dir_path, \"config\"))\n",
    "                os.makedirs(os.path.join(self.dir_path, \"data\", \"internal\", \"google_keywords\"))\n",
    "                os.makedirs(os.path.join(self.dir_path, \"data\", \"internal\", \"google_pairs\"))\n",
    "                os.makedirs(os.path.join(self.dir_path, \"data\", \"internal\", \"google_results\"))\n",
    "                os.makedirs(os.path.join(self.dir_path, \"output\", \"google_anchorbanks\"))\n",
    "\n",
    "                # copying defaults\n",
    "                shutil.copyfile(os.path.join(default_path, \"data\", \"anchor_candidate_list.txt\"),\n",
    "                                os.path.join(self.dir_path, \"data\", \"anchor_candidate_list.txt\"))\n",
    "                shutil.copyfile(os.path.join(default_path, \"config\", \"config_py.json\"),\n",
    "                                os.path.join(self.dir_path, \"config\", \"config_py.json\"))\n",
    "                for f in glob.glob(os.path.join(default_path, \"output\", \"google_anchorbanks\", \"*.tsv\")):\n",
    "                    shutil.copyfile(f, os.path.join(self.dir_path, \"output\", \"google_anchorbanks\", os.path.basename(f)))\n",
    "            else:\n",
    "                print(\"Directory already exists, loading data from it.\")\n",
    "\n",
    "        print(f\"Using directory '{self.dir_path}'\")\n",
    "        with open(os.path.join(self.dir_path, \"config\", \"config_py.json\"), 'r') as fp:\n",
    "                self.CONFIG = json.load(fp)\n",
    "\n",
    "        self.CONFIG['CONN']['timeout'] = tuple(self.CONFIG['CONN']['timeout'])\n",
    "\n",
    "        self.active_gtab = None\n",
    "        self.pytrends = TrendReq(hl='en-US', **self.CONFIG['CONN'])\n",
    "\n",
    "        # sets default anchorbank\n",
    "        default_project = \"frontex\"\n",
    "        self.set_active_project(default_project)\n",
    "        \n",
    "    def set_active_project(self, default_project):\n",
    "        \"\"\"\n",
    "            Sets the  for querying in the online phase.\n",
    "            Input parameters:\n",
    "                default_queries - filename of the desired project. N.B. must exist in 'output/google_anchorbanks'\n",
    "        \"\"\"\n",
    "\n",
    "        #print(f\"Active anchorbank changed to: {os.path.basename(self.active_gtab)}\\n\")\n",
    "        \n",
    "    def load_project(self,a):\n",
    "        a = a + 1\n",
    "        return a"
   ]
  },
  {
   "cell_type": "code",
   "execution_count": 38,
   "metadata": {},
   "outputs": [
    {
     "name": "stdout",
     "output_type": "stream",
     "text": [
      "Using directory 'S:\\ifo\\Coursework\\ML\\Term Paper Project\\GTITAN'\n"
     ]
    },
    {
     "data": {
      "text/plain": [
       "3"
      ]
     },
     "execution_count": 38,
     "metadata": {},
     "output_type": "execute_result"
    }
   ],
   "source": [
    "a=GTITAN()\n"
   ]
  },
  {
   "cell_type": "code",
   "execution_count": 3,
   "metadata": {},
   "outputs": [
    {
     "name": "stdout",
     "output_type": "stream",
     "text": [
      "['S:\\\\ifo\\\\Coursework\\\\ML\\\\Term Paper Project\\\\GTITAN', 'C:\\\\Users\\\\Joop Adema\\\\Anaconda3\\\\python37.zip', 'C:\\\\Users\\\\Joop Adema\\\\Anaconda3\\\\DLLs', 'C:\\\\Users\\\\Joop Adema\\\\Anaconda3\\\\lib', 'C:\\\\Users\\\\Joop Adema\\\\Anaconda3', '', 'C:\\\\Users\\\\Joop Adema\\\\AppData\\\\Roaming\\\\Python\\\\Python37\\\\site-packages', 'C:\\\\Users\\\\Joop Adema\\\\Anaconda3\\\\lib\\\\site-packages', 'C:\\\\Users\\\\Joop Adema\\\\Anaconda3\\\\lib\\\\site-packages\\\\win32', 'C:\\\\Users\\\\Joop Adema\\\\Anaconda3\\\\lib\\\\site-packages\\\\win32\\\\lib', 'C:\\\\Users\\\\Joop Adema\\\\Anaconda3\\\\lib\\\\site-packages\\\\Pythonwin', 'C:\\\\Users\\\\Joop Adema\\\\Anaconda3\\\\lib\\\\site-packages\\\\IPython\\\\extensions', 'C:\\\\Users\\\\Joop Adema\\\\.ipython']\n"
     ]
    }
   ],
   "source": [
    "S:\\ifo\\Coursework\\ML\\Term Paper Project\\GTITAN\\config\n",
    "import sys\n",
    "print(sys.path)"
   ]
  },
  {
   "cell_type": "code",
   "execution_count": 7,
   "metadata": {},
   "outputs": [
    {
     "data": {
      "text/plain": [
       "'S:\\\\ifo\\\\Coursework\\\\ML\\\\Term Paper Project\\\\GTITAN\\\\config\\\\config_py.json'"
      ]
     },
     "execution_count": 7,
     "metadata": {},
     "output_type": "execute_result"
    }
   ],
   "source": [
    "os.path.dirname(os.path.abspath(''))+'\\\\config\\config_py.json'"
   ]
  },
  {
   "cell_type": "code",
   "execution_count": 17,
   "metadata": {},
   "outputs": [],
   "source": [
    "f = open(os.path.dirname(os.path.abspath(''))+'\\\\config\\config_py.json', \"r\")"
   ]
  },
  {
   "cell_type": "code",
   "execution_count": 26,
   "metadata": {},
   "outputs": [
    {
     "ename": "NameError",
     "evalue": "name '__file__' is not defined",
     "output_type": "error",
     "traceback": [
      "\u001b[1;31m---------------------------------------------------------------------------\u001b[0m",
      "\u001b[1;31mNameError\u001b[0m                                 Traceback (most recent call last)",
      "\u001b[1;32m<ipython-input-26-c0ae23a43308>\u001b[0m in \u001b[0;36m<module>\u001b[1;34m\u001b[0m\n\u001b[1;32m----> 1\u001b[1;33m \u001b[0mprint\u001b[0m\u001b[1;33m(\u001b[0m\u001b[0m__file__\u001b[0m\u001b[1;33m)\u001b[0m\u001b[1;33m\u001b[0m\u001b[1;33m\u001b[0m\u001b[0m\n\u001b[0m",
      "\u001b[1;31mNameError\u001b[0m: name '__file__' is not defined"
     ]
    }
   ],
   "source": [
    "print(__file__) #is only made after importing module "
   ]
  },
  {
   "cell_type": "code",
   "execution_count": 13,
   "metadata": {},
   "outputs": [],
   "source": []
  },
  {
   "cell_type": "code",
   "execution_count": 15,
   "metadata": {},
   "outputs": [
    {
     "data": {
      "text/html": [
       "<div>\n",
       "<style scoped>\n",
       "    .dataframe tbody tr th:only-of-type {\n",
       "        vertical-align: middle;\n",
       "    }\n",
       "\n",
       "    .dataframe tbody tr th {\n",
       "        vertical-align: top;\n",
       "    }\n",
       "\n",
       "    .dataframe thead th {\n",
       "        text-align: right;\n",
       "    }\n",
       "</style>\n",
       "<table border=\"1\" class=\"dataframe\">\n",
       "  <thead>\n",
       "    <tr style=\"text-align: right;\">\n",
       "      <th></th>\n",
       "      <th>Unnamed: 0</th>\n",
       "      <th>aap</th>\n",
       "    </tr>\n",
       "  </thead>\n",
       "  <tbody>\n",
       "    <tr>\n",
       "      <th>0</th>\n",
       "      <td>0</td>\n",
       "      <td>0</td>\n",
       "    </tr>\n",
       "    <tr>\n",
       "      <th>1</th>\n",
       "      <td>1</td>\n",
       "      <td>3</td>\n",
       "    </tr>\n",
       "    <tr>\n",
       "      <th>2</th>\n",
       "      <td>2</td>\n",
       "      <td>4</td>\n",
       "    </tr>\n",
       "    <tr>\n",
       "      <th>3</th>\n",
       "      <td>3</td>\n",
       "      <td>7</td>\n",
       "    </tr>\n",
       "  </tbody>\n",
       "</table>\n",
       "</div>"
      ],
      "text/plain": [
       "   Unnamed: 0  aap\n",
       "0           0    0\n",
       "1           1    3\n",
       "2           2    4\n",
       "3           3    7"
      ]
     },
     "execution_count": 15,
     "metadata": {},
     "output_type": "execute_result"
    }
   ],
   "source": []
  },
  {
   "cell_type": "code",
   "execution_count": null,
   "metadata": {},
   "outputs": [],
   "source": []
  }
 ],
 "metadata": {
  "kernelspec": {
   "display_name": "Python 3",
   "language": "python",
   "name": "python3"
  },
  "language_info": {
   "codemirror_mode": {
    "name": "ipython",
    "version": 3
   },
   "file_extension": ".py",
   "mimetype": "text/x-python",
   "name": "python",
   "nbconvert_exporter": "python",
   "pygments_lexer": "ipython3",
   "version": "3.7.3"
  }
 },
 "nbformat": 4,
 "nbformat_minor": 4
}
